{
  "nbformat": 4,
  "nbformat_minor": 0,
  "metadata": {
    "colab": {
      "provenance": []
    },
    "kernelspec": {
      "name": "python3",
      "display_name": "Python 3"
    },
    "language_info": {
      "name": "python"
    }
  },
  "cells": [
    {
      "cell_type": "markdown",
      "source": [
        "#QUADRATIC SOLVER\n",
        "\n",
        "Suppose we have a quadratic equation of the form $ax^2 +bx+c$ which generates a parabola then to solve this equation. There are steps are to be taken as follows.\n",
        "\n",
        "1) determine $D=b^2-4ac$ where a,b,c are coeffecients of the equation\n",
        "\n",
        "2) if D>0 then there are two roots of the equation,if D=0 then there is one root and if D<0 then no roots that is parabola does not touch the x-axis\n",
        "\n",
        "3) After that for finding the vertex the formula is (-b/2a,-D/4a)where D is determinant\n",
        "\n",
        "4) For find roots the formula used is $(-b ± \\sqrt[2]{D})/2a$ \n",
        "\n",
        "This program is based on these equations\n",
        "\n",
        "\n",
        "\n"
      ],
      "metadata": {
        "id": "30-R8KAKO3la"
      }
    },
    {
      "cell_type": "code",
      "source": [
        "import pandas as pd\n",
        "import numpy as np\n",
        "from matplotlib import pyplot as plt\n",
        "class parabola():\n",
        "  \n",
        "  def __init__(self,a,b,c):\n",
        "    self.a=a\n",
        "    self.b=b\n",
        "    self.c=c\n",
        "    self.D=(b**2)-(4*a*c) \n",
        "\n",
        "  \n",
        "\n",
        "  def plot(self):\n",
        "\n",
        "    print(\"determinant of the equation is\",self.D)\n",
        "    #For a quadratic function in standard form, y=ax2+bx+c , the axis of symmetry is a vertical line x=−b/2a\n",
        "    axsym= -(self.b/2*self.a)\n",
        "\n",
        "    # y value at the point of symmetry\n",
        "    axy=-self.D/4*self.a\n",
        "\n",
        "    #creating a range for x values for plotting\n",
        "    #taking minimum value of x and maximum value of x\n",
        "    xmin = int(axsym-9)\n",
        "    xmax = int(axsym+10)\n",
        "\n",
        "    #creating a dataframe\n",
        "    df = pd.DataFrame ({'x': range(xmin, xmax)})\n",
        "\n",
        "    #creating a dataframe of y values\n",
        "    df['y'] = self.a*df['x']**2 + self.b *df['x'] + self.c\n",
        "\n",
        "    #getting minimum and maximum value of y from dataframe\n",
        "    ymin = df.y.min()\n",
        "    ymax = df.y.max()\n",
        "    \n",
        "    #adjusting the range of graph\n",
        "    if abs(ymax)>abs(ymin):\n",
        "      plt.ylim(-abs(ymax) ,abs(ymax))\n",
        "    else:\n",
        "      plt.ylim(-abs(ymin) ,abs(ymin))\n",
        "\n",
        "    #plotting the parabola\n",
        "    plt.plot(df.x, df.y, color=\"brown\")\n",
        "\n",
        "    #plotting grid\n",
        "    plt.grid()\n",
        "\n",
        "    #plotting axis line\n",
        "    plt.axhline()\n",
        "    plt.axvline()\n",
        "\n",
        "    #plotting the line of symmetry\n",
        "    sx = [axsym,axsym]\n",
        "    sy = [ymin,ymax]\n",
        "    plt.plot(sx,sy, color='dimgray')\n",
        "    \n",
        "\n",
        "    #plotting the vertex\n",
        "    plt.scatter(axsym,axy, color=\"black\",s=2**4)\n",
        "    plt.annotate('vertex',xy=(axsym,axy),xytext=((axsym + .5),axy-6))\n",
        "\n",
        "    if self.D>0:\n",
        "      #finding first root\n",
        "      x1= (-self.b + self.D**(1/2))/2*self.a\n",
        "      y1= self.a * (x1**2) + self.b *x1 +self.c\n",
        "      plt.scatter(x1,y1, color=\"black\",s=2**4)\n",
        "      plt.annotate((x1,y1),xy=(x1,y1),xytext=(x1+10,y1+10),arrowprops=dict(color='blue', lw=2, arrowstyle='<->'))\n",
        "\n",
        "      #finding second root\n",
        "      x2= (-self.b - self.D**(1/2))/2*self.a\n",
        "      y2= self.a * (x2**2) + self.b *x2 +self.c\n",
        "      plt.scatter(x2,y2, color=\"black\",s=2**4)\n",
        "      plt.annotate((x2,y2),xy=(x2,y2 ),xytext=(x2 -10,y2-10),arrowprops=dict(color='blue', lw=2, arrowstyle='<->'))\n",
        "\n",
        "      \n",
        "    if self.D==0:\n",
        "      #finding root\n",
        "      x1= (-self.b +self.D**(1/2))/2*self.a\n",
        "      y1= self.a * (x1**2) + self.b *x1 +self.c\n",
        "      plt.scatter(x1,y1, color=\"black\",s=2**4)\n",
        "      plt.annotate('root',xy=(x1,y1),xytext=(x1 + 10,y1 + 10),arrowprops=dict(color='blue', lw=2, arrowstyle='<->'))\n",
        "      print(x1)\n",
        "    if self.D<0:\n",
        "      #no root\n",
        "      print(\"no root as graph is not touching x-axis\")\n"
      ],
      "metadata": {
        "id": "UH2bBJ1519rt"
      },
      "execution_count": null,
      "outputs": []
    },
    {
      "cell_type": "code",
      "source": [
        "p1 = parabola(-1,5,10)\n",
        "p1.plot()\n",
        "\n"
      ],
      "metadata": {
        "colab": {
          "base_uri": "https://localhost:8080/",
          "height": 300
        },
        "id": "A-Pg4b51_6KH",
        "outputId": "9d537f14-6ec4-49b7-ad72-80334ea4968a"
      },
      "execution_count": null,
      "outputs": [
        {
          "output_type": "stream",
          "name": "stdout",
          "text": [
            "determinant of the equation is 65\n",
            "16.25\n"
          ]
        },
        {
          "output_type": "display_data",
          "data": {
            "text/plain": [
              "<Figure size 432x288 with 1 Axes>"
            ],
            "image/png": "[encoded data removed]"
          },
          "metadata": {
            "needs_background": "light"
          }
        }
      ]
    }
  ]
}